{
 "cells": [
  {
   "cell_type": "code",
   "execution_count": 6,
   "metadata": {},
   "outputs": [],
   "source": [
    "import pandas as pd\n",
    "import numpy as np\n",
    "from matplotlib import pyplot as plt\n",
    "\n",
    "f = open(\"./testdata/01_14T_01.dat\")\n",
    "ls = f.readlines()[2:-1]\n",
    "sl = [ll.split() for ll in ls]\n",
    "fl = [list(map(float, ll)) for ll in sl]\n",
    "df = pd.DataFrame(fl)\n",
    "df.columns = ['current', 'voltage']"
   ]
  },
  {
   "cell_type": "code",
   "execution_count": 7,
   "metadata": {},
   "outputs": [],
   "source": [
    "newdf = df[~df.duplicated(subset='current')]\n",
    "newdf = newdf.sort_values('current')"
   ]
  },
  {
   "cell_type": "code",
   "execution_count": 5,
   "metadata": {},
   "outputs": [
    {
     "data": {
      "text/plain": [
       "[[-0.015, 6.347],\n",
       " [-0.015, 6.338],\n",
       " [-0.015, 6.351],\n",
       " [-0.015, 6.353],\n",
       " [-0.015, 6.348],\n",
       " [-0.015, 6.34],\n",
       " [-0.015, 6.35],\n",
       " [-0.015, 6.358],\n",
       " [-0.016, 6.35],\n",
       " [-0.015, 6.336],\n",
       " [-0.015, 6.346],\n",
       " [-0.016, 6.339],\n",
       " [-0.016, 6.344],\n",
       " [-0.016, 6.342],\n",
       " [-0.016, 6.35],\n",
       " [-0.016, 6.351],\n",
       " [-0.015, 6.38],\n",
       " [-0.016, 6.343],\n",
       " [-0.015, 6.349],\n",
       " [-0.015, 6.349],\n",
       " [-0.016, 6.331],\n",
       " [-0.015, 6.353],\n",
       " [-0.016, 6.376],\n",
       " [-0.016, 6.328],\n",
       " [-0.016, 6.345],\n",
       " [-0.015, 6.348],\n",
       " [-0.015, 6.349],\n",
       " [-0.015, 6.356],\n",
       " [-0.016, 6.37],\n",
       " [-0.016, 6.355],\n",
       " [-0.016, 6.345],\n",
       " [-0.016, 6.373],\n",
       " [-0.015, 6.354],\n",
       " [-0.016, 6.376],\n",
       " [-0.015, 6.346],\n",
       " [-0.015, 6.353],\n",
       " [-0.015, 6.369],\n",
       " [-0.015, 6.349],\n",
       " [-0.015, 6.349],\n",
       " [-0.016, 6.354],\n",
       " [-0.016, 6.37],\n",
       " [-0.016, 6.359],\n",
       " [-0.016, 6.366],\n",
       " [-0.016, 6.371],\n",
       " [-0.015, 6.345],\n",
       " [-0.016, 6.378],\n",
       " [-0.016, 6.322],\n",
       " [-0.016, 6.359],\n",
       " [-0.016, 6.369],\n",
       " [-0.015, 6.326],\n",
       " [-0.016, 6.351],\n",
       " [-0.016, 6.347],\n",
       " [-0.016, 6.346],\n",
       " [-0.015, 6.342],\n",
       " [-0.016, 6.331],\n",
       " [-0.016, 6.335],\n",
       " [-0.016, 6.332],\n",
       " [-0.016, 6.318],\n",
       " [-0.016, 6.323],\n",
       " [-0.016, 6.32],\n",
       " [-0.016, 6.32],\n",
       " [-0.016, 6.314],\n",
       " [-0.016, 6.303],\n",
       " [-0.015, 6.324],\n",
       " [-0.016, 6.313],\n",
       " [-0.016, 6.307],\n",
       " [-0.016, 6.328],\n",
       " [-0.015, 6.31],\n",
       " [-0.016, 6.309],\n",
       " [-0.016, 6.327],\n",
       " [-0.016, 6.291],\n",
       " [-0.016, 6.298],\n",
       " [-0.016, 6.292],\n",
       " [-0.016, 6.285],\n",
       " [-0.016, 6.273],\n",
       " [-0.016, 6.302],\n",
       " [-0.016, 6.306],\n",
       " [-0.015, 6.291],\n",
       " [-0.015, 6.299],\n",
       " [-0.016, 6.471],\n",
       " [0.054, 8.539],\n",
       " [0.332, 8.054],\n",
       " [0.54, 7.622],\n",
       " [0.767, 7.544],\n",
       " [0.913, 7.417],\n",
       " [1.053, 7.411],\n",
       " [1.187, 7.33],\n",
       " [1.318, 7.292],\n",
       " [1.494, 7.303],\n",
       " [1.612, 7.271],\n",
       " [1.728, 7.265],\n",
       " [1.84, 7.169],\n",
       " [1.948, 7.198],\n",
       " [2.101, 7.213],\n",
       " [2.205, 7.131],\n",
       " [2.305, 7.022],\n",
       " [2.405, 7.045],\n",
       " [2.503, 7.025],\n",
       " [2.638, 7.132],\n",
       " [2.732, 7.025],\n",
       " [2.826, 6.982],\n",
       " [2.918, 6.906],\n",
       " [3.008, 7.071],\n",
       " [3.137, 6.978],\n",
       " [3.227, 6.921],\n",
       " [3.316, 6.969],\n",
       " [3.405, 6.966],\n",
       " [3.493, 6.94],\n",
       " [3.616, 6.959],\n",
       " [3.703, 6.97],\n",
       " [3.79, 6.949],\n",
       " [3.877, 6.957],\n",
       " [3.963, 6.897],\n",
       " [4.092, 6.911],\n",
       " [4.184, 6.938],\n",
       " [4.267, 6.918],\n",
       " [4.354, 6.934],\n",
       " [4.439, 6.893],\n",
       " [4.556, 6.888],\n",
       " [4.639, 6.899],\n",
       " [4.722, 6.927],\n",
       " [4.805, 6.897],\n",
       " [4.886, 6.93],\n",
       " [5.005, 6.886],\n",
       " [5.086, 6.922],\n",
       " [5.169, 6.948],\n",
       " [5.251, 6.91],\n",
       " [5.333, 6.917],\n",
       " [5.45, 6.922],\n",
       " [5.531, 6.88],\n",
       " [5.611, 6.914],\n",
       " [5.692, 6.942],\n",
       " [5.773, 6.958],\n",
       " [5.89, 6.929],\n",
       " [5.971, 6.925],\n",
       " [6.05, 6.963],\n",
       " [6.131, 6.925],\n",
       " [6.21, 6.961],\n",
       " [6.325, 6.97],\n",
       " [6.405, 6.888],\n",
       " [6.484, 6.837],\n",
       " [6.562, 6.837],\n",
       " [6.639, 6.882],\n",
       " [6.757, 6.964],\n",
       " [6.834, 6.986],\n",
       " [6.912, 6.878],\n",
       " [6.988, 6.946],\n",
       " [7.071, 6.955],\n",
       " [7.187, 6.997],\n",
       " [7.267, 6.961],\n",
       " [7.344, 6.961],\n",
       " [7.422, 7.073],\n",
       " [7.503, 6.955],\n",
       " [7.62, 7.234],\n",
       " [7.703, 7.264],\n",
       " [7.781, 7.514],\n",
       " [7.865, 7.682],\n",
       " [7.943, 7.964],\n",
       " [8.063, 8.525],\n",
       " [8.144, 9.229],\n",
       " [8.201, 10.201],\n",
       " [8.288, 11.207],\n",
       " [8.378, 12.592],\n",
       " [8.486, 14.065],\n",
       " [8.58, 17.189],\n",
       " [8.664, 19.379],\n",
       " [8.735, 22.359],\n",
       " [8.803, 24.784],\n",
       " [8.929, 28.691]]"
      ]
     },
     "execution_count": 5,
     "metadata": {},
     "output_type": "execute_result"
    }
   ],
   "source": []
  },
  {
   "cell_type": "code",
   "execution_count": 9,
   "metadata": {},
   "outputs": [],
   "source": [
    "from scipy.interpolate import InterpolatedUnivariateSpline"
   ]
  },
  {
   "cell_type": "code",
   "execution_count": 41,
   "metadata": {},
   "outputs": [],
   "source": [
    "f = InterpolatedUnivariateSpline(newdf['current'], newdf['voltage'], k=5)"
   ]
  },
  {
   "cell_type": "code",
   "execution_count": 49,
   "metadata": {},
   "outputs": [],
   "source": [
    "xx = np.linspace(0, newdf['current'].max(), 1000)\n",
    "yy = f(xx)"
   ]
  },
  {
   "cell_type": "code",
   "execution_count": 50,
   "metadata": {},
   "outputs": [
    {
     "data": {
      "text/plain": [
       "[<matplotlib.lines.Line2D at 0x7f48f73d7760>]"
      ]
     },
     "execution_count": 50,
     "metadata": {},
     "output_type": "execute_result"
    },
    {
     "data": {
      "image/png": "[encoded data removed]",
      "text/plain": [
       "<Figure size 432x288 with 1 Axes>"
      ]
     },
     "metadata": {
      "needs_background": "light"
     },
     "output_type": "display_data"
    }
   ],
   "source": [
    "plt.plot(xx, yy)\n",
    "plt.plot(newdf['current'], newdf['voltage'])"
   ]
  },
  {
   "cell_type": "code",
   "execution_count": 76,
   "metadata": {},
   "outputs": [],
   "source": []
  },
  {
   "cell_type": "code",
   "execution_count": 82,
   "metadata": {},
   "outputs": [
    {
     "data": {
      "text/plain": [
       "[<matplotlib.lines.Line2D at 0x7f48f620e220>]"
      ]
     },
     "execution_count": 82,
     "metadata": {},
     "output_type": "execute_result"
    },
    {
     "data": {
      "image/png": "[encoded data removed]",
      "text/plain": [
       "<Figure size 432x288 with 1 Axes>"
      ]
     },
     "metadata": {
      "needs_background": "light"
     },
     "output_type": "display_data"
    }
   ],
   "source": [
    "# ベースラインの削除\n",
    "rangex = np.linspace(0, 10, 10000) # ベースラインのy範囲\n",
    "size = len(xx)\n",
    "alldata = dict()\n",
    "sumdata = 1e10\n",
    "for i in rangex:\n",
    "    line = i * np.ones(size)\n",
    "    after = yy - line\n",
    "    absafter = np.abs(after)\n",
    "    sumafter = np.sum(absafter)\n",
    "    if sumafter < sumdata:\n",
    "        sumdata  = sumafter\n",
    "        alldata[sumdata] = i\n",
    "        \n",
    "aftery = yy - alldata[sumdata] * np.ones(size)\n",
    "plt.plot(xx, aftery)"
   ]
  },
  {
   "cell_type": "code",
   "execution_count": 87,
   "metadata": {},
   "outputs": [],
   "source": [
    "fnew = InterpolatedUnivariateSpline(xx, aftery-1)"
   ]
  },
  {
   "cell_type": "code",
   "execution_count": 92,
   "metadata": {},
   "outputs": [
    {
     "data": {
      "text/plain": [
       "[<matplotlib.lines.Line2D at 0x7f48f686fc10>]"
      ]
     },
     "execution_count": 92,
     "metadata": {},
     "output_type": "execute_result"
    },
    {
     "data": {
      "image/png": "[encoded data removed]",
      "text/plain": [
       "<Figure size 432x288 with 1 Axes>"
      ]
     },
     "metadata": {
      "needs_background": "light"
     },
     "output_type": "display_data"
    }
   ],
   "source": [
    "plt.plot(xx, fnew(xx))\n",
    "plt.plot(xx, np.zeros(size))"
   ]
  },
  {
   "cell_type": "code",
   "execution_count": 90,
   "metadata": {},
   "outputs": [
    {
     "data": {
      "text/plain": [
       "array([0.04243591, 0.33445678, 0.61071396, 0.64679795, 7.94836916])"
      ]
     },
     "execution_count": 90,
     "metadata": {},
     "output_type": "execute_result"
    }
   ],
   "source": [
    "fnew.roots()"
   ]
  },
  {
   "cell_type": "code",
   "execution_count": null,
   "metadata": {},
   "outputs": [],
   "source": []
  },
  {
   "cell_type": "code",
   "execution_count": 97,
   "metadata": {},
   "outputs": [
    {
     "data": {
      "text/plain": [
       "array([-0.51396195])"
      ]
     },
     "execution_count": 97,
     "metadata": {},
     "output_type": "execute_result"
    }
   ],
   "source": []
  },
  {
   "cell_type": "code",
   "execution_count": null,
   "metadata": {},
   "outputs": [],
   "source": []
  }
 ],
 "metadata": {
  "kernelspec": {
   "display_name": "Python 3 (ipykernel)",
   "language": "python",
   "name": "python3"
  },
  "language_info": {
   "codemirror_mode": {
    "name": "ipython",
    "version": 3
   },
   "file_extension": ".py",
   "mimetype": "text/x-python",
   "name": "python",
   "nbconvert_exporter": "python",
   "pygments_lexer": "ipython3",
   "version": "3.9.7"
  }
 },
 "nbformat": 4,
 "nbformat_minor": 4
}
